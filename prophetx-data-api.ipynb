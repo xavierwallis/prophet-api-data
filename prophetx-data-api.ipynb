{
 "cells": [
  {
   "cell_type": "markdown",
   "metadata": {},
   "source": [
    "# Setup"
   ]
  },
  {
   "cell_type": "code",
   "execution_count": 1,
   "metadata": {},
   "outputs": [
    {
     "name": "stdout",
     "output_type": "stream",
     "text": [
      "Requirement already satisfied: requests in ./.venv/lib/python3.13/site-packages (2.32.3)\n",
      "Requirement already satisfied: dotenv in ./.venv/lib/python3.13/site-packages (0.9.9)\n",
      "Requirement already satisfied: pandas in ./.venv/lib/python3.13/site-packages (2.2.3)\n",
      "Requirement already satisfied: charset-normalizer<4,>=2 in ./.venv/lib/python3.13/site-packages (from requests) (3.4.1)\n",
      "Requirement already satisfied: idna<4,>=2.5 in ./.venv/lib/python3.13/site-packages (from requests) (3.10)\n",
      "Requirement already satisfied: urllib3<3,>=1.21.1 in ./.venv/lib/python3.13/site-packages (from requests) (2.3.0)\n",
      "Requirement already satisfied: certifi>=2017.4.17 in ./.venv/lib/python3.13/site-packages (from requests) (2025.1.31)\n",
      "Requirement already satisfied: python-dotenv in ./.venv/lib/python3.13/site-packages (from dotenv) (1.0.1)\n",
      "Requirement already satisfied: numpy>=1.26.0 in ./.venv/lib/python3.13/site-packages (from pandas) (2.2.4)\n",
      "Requirement already satisfied: python-dateutil>=2.8.2 in ./.venv/lib/python3.13/site-packages (from pandas) (2.9.0.post0)\n",
      "Requirement already satisfied: pytz>=2020.1 in ./.venv/lib/python3.13/site-packages (from pandas) (2025.1)\n",
      "Requirement already satisfied: tzdata>=2022.7 in ./.venv/lib/python3.13/site-packages (from pandas) (2025.1)\n",
      "Requirement already satisfied: six>=1.5 in ./.venv/lib/python3.13/site-packages (from python-dateutil>=2.8.2->pandas) (1.17.0)\n"
     ]
    }
   ],
   "source": [
    "!pip install requests dotenv pandas\n",
    "from requests import get as fetch, post\n",
    "from dotenv import load_dotenv\n",
    "from os import environ\n",
    "from enum import Enum\n",
    "from pandas import DataFrame\n",
    "from json import loads as read_json\n",
    "from datetime import datetime\n",
    "\n",
    "load_dotenv('.env')\n",
    "\n",
    "is_production: bool = environ.get('environment') == 'production'\n",
    "token: str = environ.get('production_token') if is_production else environ.get('sandbox_token')\n",
    "url: str= environ.get('production_url') if is_production else environ.get('sandbox_url')\n",
    "\n",
    "headers = {\n",
    "    'Authorization': token,\n",
    "    'accept': 'application/json'\n",
    "}\n",
    "\n",
    "if not token or not url: raise KeyError('Token or URL Not Found')"
   ]
  },
  {
   "cell_type": "markdown",
   "metadata": {},
   "source": [
    "## Helpful Types"
   ]
  },
  {
   "cell_type": "code",
   "execution_count": 2,
   "metadata": {},
   "outputs": [],
   "source": [
    "class TournamentIDs( Enum ):\n",
    "    MLB = 109\n",
    "    KBO_LEAGUE = 2541\t\n",
    "    PROFESSIONAL_BASEBALL = 1036\n",
    "    NFL_PRESEASON = 233\t\n",
    "    NFL = 31\n",
    "    NHL = 234\t\n",
    "    NBA = 132\t"
   ]
  },
  {
   "cell_type": "markdown",
   "metadata": {},
   "source": [
    "## Gather NBA Sport Events"
   ]
  },
  {
   "cell_type": "code",
   "execution_count": 10,
   "metadata": {},
   "outputs": [
    {
     "name": "stderr",
     "output_type": "stream",
     "text": [
      "/var/folders/rr/kn4kd8k57jbbxgg7rlwvfcx80000gn/T/ipykernel_55790/4230477943.py:8: SettingWithCopyWarning: \n",
      "A value is trying to be set on a copy of a slice from a DataFrame.\n",
      "Try using .loc[row_indexer,col_indexer] = value instead\n",
      "\n",
      "See the caveats in the documentation: https://pandas.pydata.org/pandas-docs/stable/user_guide/indexing.html#returning-a-view-versus-a-copy\n",
      "  nba_todays_games['event_id'] = nba_todays_games['event_id'].apply( str )\n"
     ]
    }
   ],
   "source": [
    "mlb_data = fetch( f'{url}/affiliate/get_sport_events', headers=headers, params={ 'tournament_id': TournamentIDs.NBA.value } ).json()['data']['sport_events']\n",
    "\n",
    "# parse data\n",
    "nba_dataframe = DataFrame.from_records( mlb_data )\n",
    "\n",
    "# filter todays gameeees\n",
    "nba_todays_games = nba_dataframe[ nba_dataframe['scheduled'].str[:10] == datetime.now().strftime('%Y-%m-%d')] # only have to compare date\n",
    "nba_todays_games['event_id'] = nba_todays_games['event_id'].apply( str )\n",
    "nba_todays_event_ids = ','.join([ event_id for event_id in nba_todays_games['event_id'].to_list() ]) # parse to url friendly parameter\n",
    "\n",
    "nba_todays_games = nba_todays_games.set_index('event_id')\n"
   ]
  },
  {
   "cell_type": "markdown",
   "metadata": {},
   "source": [
    "## Gather Odds for each event"
   ]
  },
  {
   "cell_type": "code",
   "execution_count": 4,
   "metadata": {},
   "outputs": [],
   "source": [
    "\n",
    "odd_data = fetch( f'{url}/v2/affiliate/get_multiple_markets', headers=headers, params={'event_ids':nba_todays_event_ids, 'get_all_markets':False}).json()['data']\n",
    "odd_dataframe = DataFrame.from_dict( odd_data )"
   ]
  },
  {
   "cell_type": "code",
   "execution_count": 16,
   "metadata": {},
   "outputs": [
    {
     "data": {
      "application/vnd.microsoft.datawrangler.viewer.v0+json": {
       "columns": [
        {
         "name": "index",
         "rawType": "int64",
         "type": "integer"
        },
        {
         "name": "20021985",
         "rawType": "object",
         "type": "unknown"
        },
        {
         "name": "20021986",
         "rawType": "object",
         "type": "unknown"
        }
       ],
       "conversionMethod": "pd.DataFrame",
       "ref": "dabd6b5c-e6b2-47ed-b796-9513a9f2dee0",
       "rows": [
        [
         "0",
         "{'category_name': 'Game Lines', 'display_name': 'Moneyline', 'id': 219, 'name': 'Moneyline', 'selections': [{'competitor_id': 20000013, 'display_name': 'Indiana Pacers +100', 'display_odds': '+100', 'line': 0, 'line_id': '414389c510c126c85dbcb9c020aeca83', 'name': 'Indiana Pacers', 'odds': 100, 'outcome_id': 4, 'stake': 200, 'updated_at': 1742657370943373000, 'value': 100}, {'competitor_id': 20000008, 'display_name': 'Brooklyn Nets', 'display_odds': '', 'line': 0, 'line_id': 'fca77239025147ea606fad80bf6695c9', 'name': 'Brooklyn Nets', 'odds': None, 'outcome_id': 5, 'stake': 0, 'updated_at': 0, 'value': 0}], 'sub_type': 'moneyline', 'type': 'moneyline'}",
         "{'category_name': 'Game Lines', 'display_name': 'Moneyline', 'id': 219, 'name': 'Moneyline', 'selections': [{'competitor_id': 20000003, 'display_name': 'Atlanta Hawks', 'display_odds': '', 'line': 0, 'line_id': '82ac653c674802ade7e259a44bb568eb', 'name': 'Atlanta Hawks', 'odds': None, 'outcome_id': 4, 'stake': 0, 'updated_at': 0, 'value': 0}, {'competitor_id': 20000026, 'display_name': 'Golden State Warriors', 'display_odds': '', 'line': 0, 'line_id': 'a4b87072c234ee191d20c76eda44a37e', 'name': 'Golden State Warriors', 'odds': None, 'outcome_id': 5, 'stake': 0, 'updated_at': 0, 'value': 0}], 'sub_type': 'moneyline', 'type': 'moneyline'}"
        ],
        [
         "1",
         "{'category_name': 'Game Lines', 'display_name': 'Spread', 'id': 223, 'line': -12, 'name': 'Fixed home -12', 'selections': [{'competitor_id': 20000013, 'display_line': '-12', 'display_name': 'Indiana Pacers -12', 'display_odds': '', 'line': -12, 'line_id': '029c10f2c54af5effabaa4be4d805bbb', 'name': 'Indiana Pacers -12', 'odds': None, 'outcome_id': 1714, 'stake': 0, 'updated_at': 0, 'value': 0}, {'competitor_id': 20000008, 'display_line': '+12', 'display_name': 'Brooklyn Nets +12', 'display_odds': '', 'line': 12, 'line_id': 'd30b30c2838b61c80c3dfdd4659ec6b3', 'name': 'Brooklyn Nets +12', 'odds': None, 'outcome_id': 1715, 'stake': 0, 'updated_at': 0, 'value': 0}], 'sub_type': 'spread', 'type': 'spread'}",
         "{'category_name': 'Game Lines', 'display_name': 'Spread', 'id': 223, 'line': 1, 'name': 'Fixed home +1', 'selections': [{'competitor_id': 20000003, 'display_line': '+1', 'display_name': 'Atlanta Hawks +1', 'display_odds': '', 'line': 1, 'line_id': '6e42e0eb5de9f716616318aca82bb2d9', 'name': 'Atlanta Hawks +1', 'odds': None, 'outcome_id': 1714, 'stake': 0, 'updated_at': 0, 'value': 0}, {'competitor_id': 20000026, 'display_line': '-1', 'display_name': 'Golden State Warriors -1', 'display_odds': '', 'line': -1, 'line_id': '17461f6e568764e7ab9a68de374761b8', 'name': 'Golden State Warriors -1', 'odds': None, 'outcome_id': 1715, 'stake': 0, 'updated_at': 0, 'value': 0}], 'sub_type': 'spread', 'type': 'spread'}"
        ],
        [
         "2",
         "{'category_name': 'Game Lines', 'display_name': 'Spread', 'id': 223, 'line': -11.5, 'name': 'Fixed home -11.5', 'selections': [{'competitor_id': 20000013, 'display_line': '-11.5', 'display_name': 'Indiana Pacers -11.5', 'display_odds': '', 'line': -11.5, 'line_id': '21bf171e1f9459cb1ef92909034e0075', 'name': 'Indiana Pacers -11.5', 'odds': None, 'outcome_id': 1714, 'stake': 0, 'updated_at': 0, 'value': 0}, {'competitor_id': 20000008, 'display_line': '+11.5', 'display_name': 'Brooklyn Nets +11.5', 'display_odds': '', 'line': 11.5, 'line_id': '5c60869aaf8c0897795fd72cb48284f7', 'name': 'Brooklyn Nets +11.5', 'odds': None, 'outcome_id': 1715, 'stake': 0, 'updated_at': 0, 'value': 0}], 'sub_type': 'spread', 'type': 'spread'}",
         "{'category_name': 'Game Lines', 'display_name': 'Spread', 'id': 223, 'line': 1.5, 'name': 'Fixed home +1.5', 'selections': [{'competitor_id': 20000003, 'display_line': '+1.5', 'display_name': 'Atlanta Hawks +1.5', 'display_odds': '', 'line': 1.5, 'line_id': '63fee552e3a24789e2df26ad340a3666', 'name': 'Atlanta Hawks +1.5', 'odds': None, 'outcome_id': 1714, 'stake': 0, 'updated_at': 0, 'value': 0}, {'competitor_id': 20000026, 'display_line': '-1.5', 'display_name': 'Golden State Warriors -1.5', 'display_odds': '', 'line': -1.5, 'line_id': 'e3af8011868dfa6be3a62414e2cfc821', 'name': 'Golden State Warriors -1.5', 'odds': None, 'outcome_id': 1715, 'stake': 0, 'updated_at': 0, 'value': 0}], 'sub_type': 'spread', 'type': 'spread'}"
        ],
        [
         "3",
         "{'category_name': 'Game Lines', 'display_name': 'Spread', 'id': 223, 'line': -11, 'name': 'Fixed home -11', 'selections': [{'competitor_id': 20000013, 'display_line': '-11', 'display_name': 'Indiana Pacers -11', 'display_odds': '', 'line': -11, 'line_id': 'd37e23209ad6c423670d8cf12bd5cd59', 'name': 'Indiana Pacers -11', 'odds': None, 'outcome_id': 1714, 'stake': 0, 'updated_at': 0, 'value': 0}, {'competitor_id': 20000008, 'display_line': '+11', 'display_name': 'Brooklyn Nets +11', 'display_odds': '', 'line': 11, 'line_id': '0b85229ec0b95a45ec26971cdfccb44f', 'name': 'Brooklyn Nets +11', 'odds': None, 'outcome_id': 1715, 'stake': 0, 'updated_at': 0, 'value': 0}], 'sub_type': 'spread', 'type': 'spread'}",
         "{'category_name': 'Game Lines', 'display_name': 'Spread', 'id': 223, 'line': 2, 'name': 'Fixed home +2', 'selections': [{'competitor_id': 20000003, 'display_line': '+2', 'display_name': 'Atlanta Hawks +2', 'display_odds': '', 'line': 2, 'line_id': 'f3682e919b08d19f7760832f5f57819d', 'name': 'Atlanta Hawks +2', 'odds': None, 'outcome_id': 1714, 'stake': 0, 'updated_at': 0, 'value': 0}, {'competitor_id': 20000026, 'display_line': '-2', 'display_name': 'Golden State Warriors -2', 'display_odds': '', 'line': -2, 'line_id': 'e86009621c55e1cf5878cadad52ca0a4', 'name': 'Golden State Warriors -2', 'odds': None, 'outcome_id': 1715, 'stake': 0, 'updated_at': 0, 'value': 0}], 'sub_type': 'spread', 'type': 'spread'}"
        ],
        [
         "4",
         "{'category_name': 'Game Lines', 'display_name': 'Spread', 'id': 223, 'line': -10.5, 'name': 'Fixed home -10.5', 'selections': [{'competitor_id': 20000013, 'display_line': '-10.5', 'display_name': 'Indiana Pacers -10.5', 'display_odds': '', 'line': -10.5, 'line_id': '1c30ae92629853cd0c5f27f56090cb44', 'name': 'Indiana Pacers -10.5', 'odds': None, 'outcome_id': 1714, 'stake': 0, 'updated_at': 0, 'value': 0}, {'competitor_id': 20000008, 'display_line': '+10.5', 'display_name': 'Brooklyn Nets +10.5', 'display_odds': '', 'line': 10.5, 'line_id': '9a94670d0fce56fa30dcafefe6e544a3', 'name': 'Brooklyn Nets +10.5', 'odds': None, 'outcome_id': 1715, 'stake': 0, 'updated_at': 0, 'value': 0}], 'sub_type': 'spread', 'type': 'spread'}",
         "{'category_name': 'Game Lines', 'display_name': 'Spread', 'id': 223, 'line': 2.5, 'name': 'Fixed home +2.5', 'selections': [{'competitor_id': 20000003, 'display_line': '+2.5', 'display_name': 'Atlanta Hawks +2.5', 'display_odds': '', 'line': 2.5, 'line_id': 'a489c3eba7bac0560074c7e776a4c0e8', 'name': 'Atlanta Hawks +2.5', 'odds': None, 'outcome_id': 1714, 'stake': 0, 'updated_at': 0, 'value': 0}, {'competitor_id': 20000026, 'display_line': '-2.5', 'display_name': 'Golden State Warriors -2.5', 'display_odds': '', 'line': -2.5, 'line_id': '0419b29235127e3ec4a229af098959ce', 'name': 'Golden State Warriors -2.5', 'odds': None, 'outcome_id': 1715, 'stake': 0, 'updated_at': 0, 'value': 0}], 'sub_type': 'spread', 'type': 'spread'}"
        ],
        [
         "5",
         "{'category_name': 'Game Lines', 'display_name': 'Spread', 'id': 223, 'line': -10, 'name': 'Fixed home -10', 'selections': [{'competitor_id': 20000013, 'display_line': '-10', 'display_name': 'Indiana Pacers -10', 'display_odds': '', 'line': -10, 'line_id': 'd939d2bc61cf084473b131c47c6c2c0d', 'name': 'Indiana Pacers -10', 'odds': None, 'outcome_id': 1714, 'stake': 0, 'updated_at': 0, 'value': 0}, {'competitor_id': 20000008, 'display_line': '+10', 'display_name': 'Brooklyn Nets +10', 'display_odds': '', 'line': 10, 'line_id': '468bad442f3727b7e85c11001452e93c', 'name': 'Brooklyn Nets +10', 'odds': None, 'outcome_id': 1715, 'stake': 0, 'updated_at': 0, 'value': 0}], 'sub_type': 'spread', 'type': 'spread'}",
         "{'category_name': 'Game Lines', 'display_name': 'Spread', 'id': 223, 'line': 3, 'name': 'Fixed home +3', 'selections': [{'competitor_id': 20000003, 'display_line': '+3', 'display_name': 'Atlanta Hawks +3', 'display_odds': '', 'line': 3, 'line_id': '290776214e9989b4686bdaf016721a60', 'name': 'Atlanta Hawks +3', 'odds': None, 'outcome_id': 1714, 'stake': 0, 'updated_at': 0, 'value': 0}, {'competitor_id': 20000026, 'display_line': '-3', 'display_name': 'Golden State Warriors -3', 'display_odds': '', 'line': -3, 'line_id': '446cb1914de205c0b18098f1a0b9a4b1', 'name': 'Golden State Warriors -3', 'odds': None, 'outcome_id': 1715, 'stake': 0, 'updated_at': 0, 'value': 0}], 'sub_type': 'spread', 'type': 'spread'}"
        ],
        [
         "6",
         "{'category_name': 'Game Lines', 'display_name': 'Spread', 'favourite': True, 'id': 223, 'line': -9.5, 'name': 'Fixed home -9.5', 'selections': [{'competitor_id': 20000013, 'display_line': '-9.5', 'display_name': 'Indiana Pacers -9.5', 'display_odds': '-110', 'line': -9.5, 'line_id': '36ca7ea41e0f11ada723003d5a6e44f7', 'name': 'Indiana Pacers -9.5', 'odds': -110, 'outcome_id': 1714, 'stake': 8.18, 'updated_at': 1742662688348729000, 'value': 9}, {'competitor_id': 20000008, 'display_line': '+9.5', 'display_name': 'Brooklyn Nets +9.5', 'display_odds': '-110', 'line': 9.5, 'line_id': '8e978bc67eb4afde4e4e12e8cef2e137', 'name': 'Brooklyn Nets +9.5', 'odds': -110, 'outcome_id': 1715, 'stake': 8.18, 'updated_at': 1742669887644567000, 'value': 9}], 'sub_type': 'spread', 'type': 'spread'}",
         "{'category_name': 'Game Lines', 'display_name': 'Spread', 'favourite': True, 'id': 223, 'line': 3.5, 'name': 'Fixed home +3.5', 'selections': [{'competitor_id': 20000003, 'display_line': '+3.5', 'display_name': 'Atlanta Hawks +3.5', 'display_odds': '', 'line': 3.5, 'line_id': '5a001cc11c8528e97a839e0e3e58b22e', 'name': 'Atlanta Hawks +3.5', 'odds': None, 'outcome_id': 1714, 'stake': 0, 'updated_at': 0, 'value': 0}, {'competitor_id': 20000026, 'display_line': '-3.5', 'display_name': 'Golden State Warriors -3.5', 'display_odds': '', 'line': -3.5, 'line_id': 'd70dd99f47d81aa530a1168d79cfb0eb', 'name': 'Golden State Warriors -3.5', 'odds': None, 'outcome_id': 1715, 'stake': 0, 'updated_at': 0, 'value': 0}], 'sub_type': 'spread', 'type': 'spread'}"
        ],
        [
         "7",
         "{'category_name': 'Game Lines', 'display_name': 'Spread', 'id': 223, 'line': -9, 'name': 'Fixed home -9', 'selections': [{'competitor_id': 20000013, 'display_line': '-9', 'display_name': 'Indiana Pacers -9', 'display_odds': '', 'line': -9, 'line_id': 'dabacefa3741df36d3a82f2d1d5d0485', 'name': 'Indiana Pacers -9', 'odds': None, 'outcome_id': 1714, 'stake': 0, 'updated_at': 0, 'value': 0}, {'competitor_id': 20000008, 'display_line': '+9', 'display_name': 'Brooklyn Nets +9', 'display_odds': '', 'line': 9, 'line_id': 'c16190ad643e7896475e3f53a72ad0bd', 'name': 'Brooklyn Nets +9', 'odds': None, 'outcome_id': 1715, 'stake': 0, 'updated_at': 0, 'value': 0}], 'sub_type': 'spread', 'type': 'spread'}",
         "{'category_name': 'Game Lines', 'display_name': 'Spread', 'id': 223, 'line': 4, 'name': 'Fixed home +4', 'selections': [{'competitor_id': 20000003, 'display_line': '+4', 'display_name': 'Atlanta Hawks +4', 'display_odds': '', 'line': 4, 'line_id': 'e5be810f8a1dded243e0fa023b5f933f', 'name': 'Atlanta Hawks +4', 'odds': None, 'outcome_id': 1714, 'stake': 0, 'updated_at': 0, 'value': 0}, {'competitor_id': 20000026, 'display_line': '-4', 'display_name': 'Golden State Warriors -4', 'display_odds': '', 'line': -4, 'line_id': '18eba4692b47188e5334d997a39affc2', 'name': 'Golden State Warriors -4', 'odds': None, 'outcome_id': 1715, 'stake': 0, 'updated_at': 0, 'value': 0}], 'sub_type': 'spread', 'type': 'spread'}"
        ],
        [
         "8",
         "{'category_name': 'Game Lines', 'display_name': 'Spread', 'id': 223, 'line': -8.5, 'name': 'Fixed home -8.5', 'selections': [{'competitor_id': 20000013, 'display_line': '-8.5', 'display_name': 'Indiana Pacers -8.5', 'display_odds': '', 'line': -8.5, 'line_id': 'a801354d0f10089e11dd7646719fb407', 'name': 'Indiana Pacers -8.5', 'odds': None, 'outcome_id': 1714, 'stake': 0, 'updated_at': 0, 'value': 0}, {'competitor_id': 20000008, 'display_line': '+8.5', 'display_name': 'Brooklyn Nets +8.5', 'display_odds': '', 'line': 8.5, 'line_id': '96b5a9c616486858d42fc04a2b1fd414', 'name': 'Brooklyn Nets +8.5', 'odds': None, 'outcome_id': 1715, 'stake': 0, 'updated_at': 0, 'value': 0}], 'sub_type': 'spread', 'type': 'spread'}",
         "{'category_name': 'Game Lines', 'display_name': 'Spread', 'id': 223, 'line': 4.5, 'name': 'Fixed home +4.5', 'selections': [{'competitor_id': 20000003, 'display_line': '+4.5', 'display_name': 'Atlanta Hawks +4.5', 'display_odds': '', 'line': 4.5, 'line_id': 'e7781562e778f166b4a593b4fb9f567f', 'name': 'Atlanta Hawks +4.5', 'odds': None, 'outcome_id': 1714, 'stake': 0, 'updated_at': 0, 'value': 0}, {'competitor_id': 20000026, 'display_line': '-4.5', 'display_name': 'Golden State Warriors -4.5', 'display_odds': '', 'line': -4.5, 'line_id': '7c5733a4fb5f16b6ebbdfc57a5de1854', 'name': 'Golden State Warriors -4.5', 'odds': None, 'outcome_id': 1715, 'stake': 0, 'updated_at': 0, 'value': 0}], 'sub_type': 'spread', 'type': 'spread'}"
        ],
        [
         "9",
         "{'category_name': 'Game Lines', 'display_name': 'Spread', 'id': 223, 'line': -8, 'name': 'Fixed home -8', 'selections': [{'competitor_id': 20000013, 'display_line': '-8', 'display_name': 'Indiana Pacers -8', 'display_odds': '', 'line': -8, 'line_id': '6885cd4f6164e7fd773809030973be43', 'name': 'Indiana Pacers -8', 'odds': None, 'outcome_id': 1714, 'stake': 0, 'updated_at': 0, 'value': 0}, {'competitor_id': 20000008, 'display_line': '+8', 'display_name': 'Brooklyn Nets +8', 'display_odds': '', 'line': 8, 'line_id': '46d4f9fc30cc517d9d818cd4fd60dad8', 'name': 'Brooklyn Nets +8', 'odds': None, 'outcome_id': 1715, 'stake': 0, 'updated_at': 0, 'value': 0}], 'sub_type': 'spread', 'type': 'spread'}",
         "{'category_name': 'Game Lines', 'display_name': 'Spread', 'id': 223, 'line': 5, 'name': 'Fixed home +5', 'selections': [{'competitor_id': 20000003, 'display_line': '+5', 'display_name': 'Atlanta Hawks +5', 'display_odds': '', 'line': 5, 'line_id': 'cf63cfd99d17490362a145434f19ae58', 'name': 'Atlanta Hawks +5', 'odds': None, 'outcome_id': 1714, 'stake': 0, 'updated_at': 0, 'value': 0}, {'competitor_id': 20000026, 'display_line': '-5', 'display_name': 'Golden State Warriors -5', 'display_odds': '', 'line': -5, 'line_id': '0cd91cd1147e7f7cc71d2ff0b58223d7', 'name': 'Golden State Warriors -5', 'odds': None, 'outcome_id': 1715, 'stake': 0, 'updated_at': 0, 'value': 0}], 'sub_type': 'spread', 'type': 'spread'}"
        ],
        [
         "10",
         "{'category_name': 'Game Lines', 'display_name': 'Spread', 'id': 223, 'line': -7.5, 'name': 'Fixed home -7.5', 'selections': [{'competitor_id': 20000013, 'display_line': '-7.5', 'display_name': 'Indiana Pacers -7.5', 'display_odds': '', 'line': -7.5, 'line_id': '173220f4d46e843683603379dc67e535', 'name': 'Indiana Pacers -7.5', 'odds': None, 'outcome_id': 1714, 'stake': 0, 'updated_at': 0, 'value': 0}, {'competitor_id': 20000008, 'display_line': '+7.5', 'display_name': 'Brooklyn Nets +7.5', 'display_odds': '', 'line': 7.5, 'line_id': '865df01757801bb9fcfa2d88f5ca9d21', 'name': 'Brooklyn Nets +7.5', 'odds': None, 'outcome_id': 1715, 'stake': 0, 'updated_at': 0, 'value': 0}], 'sub_type': 'spread', 'type': 'spread'}",
         "{'category_name': 'Game Lines', 'display_name': 'Spread', 'id': 223, 'line': 5.5, 'name': 'Fixed home +5.5', 'selections': [{'competitor_id': 20000003, 'display_line': '+5.5', 'display_name': 'Atlanta Hawks +5.5', 'display_odds': '', 'line': 5.5, 'line_id': 'ec1301f7a4abc5a135d7db6a650264f6', 'name': 'Atlanta Hawks +5.5', 'odds': None, 'outcome_id': 1714, 'stake': 0, 'updated_at': 0, 'value': 0}, {'competitor_id': 20000026, 'display_line': '-5.5', 'display_name': 'Golden State Warriors -5.5', 'display_odds': '', 'line': -5.5, 'line_id': 'fe893bd57af59ffa94a83dcb2127f965', 'name': 'Golden State Warriors -5.5', 'odds': None, 'outcome_id': 1715, 'stake': 0, 'updated_at': 0, 'value': 0}], 'sub_type': 'spread', 'type': 'spread'}"
        ],
        [
         "11",
         "{'category_name': 'Game Lines', 'display_name': 'Spread', 'id': 223, 'line': -7, 'name': 'Fixed home -7', 'selections': [{'competitor_id': 20000013, 'display_line': '-7', 'display_name': 'Indiana Pacers -7', 'display_odds': '', 'line': -7, 'line_id': 'e142e3f87faa70b6befdc6d0a7e538e5', 'name': 'Indiana Pacers -7', 'odds': None, 'outcome_id': 1714, 'stake': 0, 'updated_at': 0, 'value': 0}, {'competitor_id': 20000008, 'display_line': '+7', 'display_name': 'Brooklyn Nets +7', 'display_odds': '', 'line': 7, 'line_id': '1ed184e41b89923299365d2e15ee5148', 'name': 'Brooklyn Nets +7', 'odds': None, 'outcome_id': 1715, 'stake': 0, 'updated_at': 0, 'value': 0}], 'sub_type': 'spread', 'type': 'spread'}",
         "{'category_name': 'Game Lines', 'display_name': 'Spread', 'id': 223, 'line': 6, 'name': 'Fixed home +6', 'selections': [{'competitor_id': 20000003, 'display_line': '+6', 'display_name': 'Atlanta Hawks +6', 'display_odds': '', 'line': 6, 'line_id': 'ba5751570c0517e03ebf86553087a733', 'name': 'Atlanta Hawks +6', 'odds': None, 'outcome_id': 1714, 'stake': 0, 'updated_at': 0, 'value': 0}, {'competitor_id': 20000026, 'display_line': '-6', 'display_name': 'Golden State Warriors -6', 'display_odds': '', 'line': -6, 'line_id': '34fb44be9a81b8ec4264f47f19eb8cbe', 'name': 'Golden State Warriors -6', 'odds': None, 'outcome_id': 1715, 'stake': 0, 'updated_at': 0, 'value': 0}], 'sub_type': 'spread', 'type': 'spread'}"
        ],
        [
         "12",
         "{'category_name': 'Game Lines', 'display_name': 'Total Points', 'id': 225, 'line': 217, 'name': 'Fixed total 217', 'selections': [{'display_line': '217', 'display_name': 'under 217', 'display_odds': '', 'line': 217, 'line_id': 'b669b76bf4b8a80bcac0c4e3dadce801', 'name': 'under 217', 'odds': None, 'outcome_id': 13, 'stake': 0, 'updated_at': 0, 'value': 0}, {'display_line': '217', 'display_name': 'over 217', 'display_odds': '', 'line': 217, 'line_id': 'f41bbdd9c8ba70be2ba14e5b4bf21f59', 'name': 'over 217', 'odds': None, 'outcome_id': 12, 'stake': 0, 'updated_at': 0, 'value': 0}], 'sub_type': 'total', 'type': 'total'}",
         "{'category_name': 'Game Lines', 'display_name': 'Total Points', 'id': 225, 'line': 228, 'name': 'Fixed total 228', 'selections': [{'display_line': '228', 'display_name': 'under 228', 'display_odds': '', 'line': 228, 'line_id': '390721fcda1bbf6ac3e8ea714c15ff88', 'name': 'under 228', 'odds': None, 'outcome_id': 13, 'stake': 0, 'updated_at': 0, 'value': 0}, {'display_line': '228', 'display_name': 'over 228', 'display_odds': '', 'line': 228, 'line_id': 'a9513f7431fd35361c5fa7c78658332c', 'name': 'over 228', 'odds': None, 'outcome_id': 12, 'stake': 0, 'updated_at': 0, 'value': 0}], 'sub_type': 'total', 'type': 'total'}"
        ],
        [
         "13",
         "{'category_name': 'Game Lines', 'display_name': 'Total Points', 'id': 225, 'line': 217.5, 'name': 'Fixed total 217.5', 'selections': [{'display_line': '217.5', 'display_name': 'under 217.5', 'display_odds': '', 'line': 217.5, 'line_id': '6c04ec18aa4b7cdd06bc199647506054', 'name': 'under 217.5', 'odds': None, 'outcome_id': 13, 'stake': 0, 'updated_at': 0, 'value': 0}, {'display_line': '217.5', 'display_name': 'over 217.5', 'display_odds': '', 'line': 217.5, 'line_id': '2b546d54c2b1a69091d750851d7990a4', 'name': 'over 217.5', 'odds': None, 'outcome_id': 12, 'stake': 0, 'updated_at': 0, 'value': 0}], 'sub_type': 'total', 'type': 'total'}",
         "{'category_name': 'Game Lines', 'display_name': 'Total Points', 'id': 225, 'line': 228.5, 'name': 'Fixed total 228.5', 'selections': [{'display_line': '228.5', 'display_name': 'under 228.5', 'display_odds': '', 'line': 228.5, 'line_id': 'e033fb2ff126c00ff4d0d19b4402bf65', 'name': 'under 228.5', 'odds': None, 'outcome_id': 13, 'stake': 0, 'updated_at': 0, 'value': 0}, {'display_line': '228.5', 'display_name': 'over 228.5', 'display_odds': '', 'line': 228.5, 'line_id': 'cdd3252d843d29cc23f0e0935bf7b787', 'name': 'over 228.5', 'odds': None, 'outcome_id': 12, 'stake': 0, 'updated_at': 0, 'value': 0}], 'sub_type': 'total', 'type': 'total'}"
        ],
        [
         "14",
         "{'category_name': 'Game Lines', 'display_name': 'Total Points', 'id': 225, 'line': 218, 'name': 'Fixed total 218', 'selections': [{'display_line': '218', 'display_name': 'under 218', 'display_odds': '', 'line': 218, 'line_id': '38d1be0fc1fd7bb5980e8c9a646c3e70', 'name': 'under 218', 'odds': None, 'outcome_id': 13, 'stake': 0, 'updated_at': 0, 'value': 0}, {'display_line': '218', 'display_name': 'over 218', 'display_odds': '', 'line': 218, 'line_id': 'a33de3865eaab54676d828ffa8f0da6a', 'name': 'over 218', 'odds': None, 'outcome_id': 12, 'stake': 0, 'updated_at': 0, 'value': 0}], 'sub_type': 'total', 'type': 'total'}",
         "{'category_name': 'Game Lines', 'display_name': 'Total Points', 'id': 225, 'line': 229, 'name': 'Fixed total 229', 'selections': [{'display_line': '229', 'display_name': 'under 229', 'display_odds': '', 'line': 229, 'line_id': 'bd739f87cd1e006412f230e5f28d4de8', 'name': 'under 229', 'odds': None, 'outcome_id': 13, 'stake': 0, 'updated_at': 0, 'value': 0}, {'display_line': '229', 'display_name': 'over 229', 'display_odds': '', 'line': 229, 'line_id': 'cb86f92fc8da6fbc2c063e932cb63486', 'name': 'over 229', 'odds': None, 'outcome_id': 12, 'stake': 0, 'updated_at': 0, 'value': 0}], 'sub_type': 'total', 'type': 'total'}"
        ],
        [
         "15",
         "{'category_name': 'Game Lines', 'display_name': 'Total Points', 'id': 225, 'line': 218.5, 'name': 'Fixed total 218.5', 'selections': [{'display_line': '218.5', 'display_name': 'under 218.5', 'display_odds': '', 'line': 218.5, 'line_id': '52f0b1eb117baad027314ce4d9d9061d', 'name': 'under 218.5', 'odds': None, 'outcome_id': 13, 'stake': 0, 'updated_at': 0, 'value': 0}, {'display_line': '218.5', 'display_name': 'over 218.5', 'display_odds': '', 'line': 218.5, 'line_id': '0c480516b1bf86662c0d362e00acd591', 'name': 'over 218.5', 'odds': None, 'outcome_id': 12, 'stake': 0, 'updated_at': 0, 'value': 0}], 'sub_type': 'total', 'type': 'total'}",
         "{'category_name': 'Game Lines', 'display_name': 'Total Points', 'id': 225, 'line': 229.5, 'name': 'Fixed total 229.5', 'selections': [{'display_line': '229.5', 'display_name': 'under 229.5', 'display_odds': '', 'line': 229.5, 'line_id': '04c35677a71eb392700dfbb0ada9dada', 'name': 'under 229.5', 'odds': None, 'outcome_id': 13, 'stake': 0, 'updated_at': 0, 'value': 0}, {'display_line': '229.5', 'display_name': 'over 229.5', 'display_odds': '', 'line': 229.5, 'line_id': '20deee1fce4bfb56ac5611345ddbecd2', 'name': 'over 229.5', 'odds': None, 'outcome_id': 12, 'stake': 0, 'updated_at': 0, 'value': 0}], 'sub_type': 'total', 'type': 'total'}"
        ],
        [
         "16",
         "{'category_name': 'Game Lines', 'display_name': 'Total Points', 'id': 225, 'line': 219, 'name': 'Fixed total 219', 'selections': [{'display_line': '219', 'display_name': 'under 219', 'display_odds': '', 'line': 219, 'line_id': 'b7b24314f7a66851f437ecb3c77500b5', 'name': 'under 219', 'odds': None, 'outcome_id': 13, 'stake': 0, 'updated_at': 0, 'value': 0}, {'display_line': '219', 'display_name': 'over 219', 'display_odds': '', 'line': 219, 'line_id': 'f7886626c72242627403204e369b7912', 'name': 'over 219', 'odds': None, 'outcome_id': 12, 'stake': 0, 'updated_at': 0, 'value': 0}], 'sub_type': 'total', 'type': 'total'}",
         "{'category_name': 'Game Lines', 'display_name': 'Total Points', 'id': 225, 'line': 230, 'name': 'Fixed total 230', 'selections': [{'display_line': '230', 'display_name': 'under 230', 'display_odds': '', 'line': 230, 'line_id': 'ea8516c35915ad50b1bd1202c091b0c4', 'name': 'under 230', 'odds': None, 'outcome_id': 13, 'stake': 0, 'updated_at': 0, 'value': 0}, {'display_line': '230', 'display_name': 'over 230', 'display_odds': '', 'line': 230, 'line_id': '850d671605a22e18cfe9cb50915bdc51', 'name': 'over 230', 'odds': None, 'outcome_id': 12, 'stake': 0, 'updated_at': 0, 'value': 0}], 'sub_type': 'total', 'type': 'total'}"
        ],
        [
         "17",
         "{'category_name': 'Game Lines', 'display_name': 'Total Points', 'favourite': True, 'id': 225, 'line': 219.5, 'name': 'Fixed total 219.5', 'selections': [{'display_line': '219.5', 'display_name': 'under 219.5', 'display_odds': '-110', 'line': 219.5, 'line_id': 'd89da2d0232923128e10835be9e49857', 'name': 'under 219.5', 'odds': -110, 'outcome_id': 13, 'stake': 20.73, 'updated_at': 1742669888422286000, 'value': 3.09}, {'display_line': '219.5', 'display_name': 'over 219.5', 'display_odds': '+100', 'line': 219.5, 'line_id': 'ef9e9e01faa28ce8a0034a3162a8afe0', 'name': 'over 219.5', 'odds': 100, 'outcome_id': 12, 'stake': 60, 'updated_at': 1742657533372827000, 'value': 20}], 'sub_type': 'total', 'type': 'total'}",
         "{'category_name': 'Game Lines', 'display_name': 'Total Points', 'favourite': True, 'id': 225, 'line': 230.5, 'name': 'Fixed total 230.5', 'selections': [{'display_line': '230.5', 'display_name': 'under 230.5', 'display_odds': '', 'line': 230.5, 'line_id': 'a193eb739d0a70f7cac281b0a21ed7ed', 'name': 'under 230.5', 'odds': None, 'outcome_id': 13, 'stake': 0, 'updated_at': 0, 'value': 0}, {'display_line': '230.5', 'display_name': 'over 230.5', 'display_odds': '', 'line': 230.5, 'line_id': 'c1407f0bb64b69de468f0ce45243211e', 'name': 'over 230.5', 'odds': None, 'outcome_id': 12, 'stake': 0, 'updated_at': 0, 'value': 0}], 'sub_type': 'total', 'type': 'total'}"
        ],
        [
         "18",
         "{'category_name': 'Game Lines', 'display_name': 'Total Points', 'id': 225, 'line': 220, 'name': 'Fixed total 220', 'selections': [{'display_line': '220', 'display_name': 'under 220', 'display_odds': '', 'line': 220, 'line_id': '783674b4f53f76deae6c84e534712827', 'name': 'under 220', 'odds': None, 'outcome_id': 13, 'stake': 0, 'updated_at': 0, 'value': 0}, {'display_line': '220', 'display_name': 'over 220', 'display_odds': '', 'line': 220, 'line_id': '5d1e3e39629f6ab4f6ad9d0c06520bce', 'name': 'over 220', 'odds': None, 'outcome_id': 12, 'stake': 0, 'updated_at': 0, 'value': 0}], 'sub_type': 'total', 'type': 'total'}",
         "{'category_name': 'Game Lines', 'display_name': 'Total Points', 'id': 225, 'line': 231, 'name': 'Fixed total 231', 'selections': [{'display_line': '231', 'display_name': 'under 231', 'display_odds': '', 'line': 231, 'line_id': '620cab1898da0767d4bf0f052e516812', 'name': 'under 231', 'odds': None, 'outcome_id': 13, 'stake': 0, 'updated_at': 0, 'value': 0}, {'display_line': '231', 'display_name': 'over 231', 'display_odds': '', 'line': 231, 'line_id': '2750a48cb1bb015aab7b98ef8691df03', 'name': 'over 231', 'odds': None, 'outcome_id': 12, 'stake': 0, 'updated_at': 0, 'value': 0}], 'sub_type': 'total', 'type': 'total'}"
        ],
        [
         "19",
         "{'category_name': 'Game Lines', 'display_name': 'Total Points', 'id': 225, 'line': 220.5, 'name': 'Fixed total 220.5', 'selections': [{'display_line': '220.5', 'display_name': 'under 220.5', 'display_odds': '', 'line': 220.5, 'line_id': '1891801aae52775736e70ca66987afda', 'name': 'under 220.5', 'odds': None, 'outcome_id': 13, 'stake': 0, 'updated_at': 0, 'value': 0}, {'display_line': '220.5', 'display_name': 'over 220.5', 'display_odds': '', 'line': 220.5, 'line_id': '0f49e13f739eec92486ac16f05cc987a', 'name': 'over 220.5', 'odds': None, 'outcome_id': 12, 'stake': 0, 'updated_at': 0, 'value': 0}], 'sub_type': 'total', 'type': 'total'}",
         "{'category_name': 'Game Lines', 'display_name': 'Total Points', 'id': 225, 'line': 231.5, 'name': 'Fixed total 231.5', 'selections': [{'display_line': '231.5', 'display_name': 'under 231.5', 'display_odds': '', 'line': 231.5, 'line_id': '98e005a3707b601b69bfdd6916570b98', 'name': 'under 231.5', 'odds': None, 'outcome_id': 13, 'stake': 0, 'updated_at': 0, 'value': 0}, {'display_line': '231.5', 'display_name': 'over 231.5', 'display_odds': '', 'line': 231.5, 'line_id': '49daebf642dab4ae95dd8c8768d71b4f', 'name': 'over 231.5', 'odds': None, 'outcome_id': 12, 'stake': 0, 'updated_at': 0, 'value': 0}], 'sub_type': 'total', 'type': 'total'}"
        ],
        [
         "20",
         "{'category_name': 'Game Lines', 'display_name': 'Total Points', 'id': 225, 'line': 221, 'name': 'Fixed total 221', 'selections': [{'display_line': '221', 'display_name': 'under 221', 'display_odds': '', 'line': 221, 'line_id': '3eafda7d58814eb9e459dee9c7454516', 'name': 'under 221', 'odds': None, 'outcome_id': 13, 'stake': 0, 'updated_at': 0, 'value': 0}, {'display_line': '221', 'display_name': 'over 221', 'display_odds': '', 'line': 221, 'line_id': 'ac7055f536100b18408832eee0c5dac8', 'name': 'over 221', 'odds': None, 'outcome_id': 12, 'stake': 0, 'updated_at': 0, 'value': 0}], 'sub_type': 'total', 'type': 'total'}",
         "{'category_name': 'Game Lines', 'display_name': 'Total Points', 'id': 225, 'line': 232, 'name': 'Fixed total 232', 'selections': [{'display_line': '232', 'display_name': 'under 232', 'display_odds': '', 'line': 232, 'line_id': '81ed841723829cbca810f17ad4e91441', 'name': 'under 232', 'odds': None, 'outcome_id': 13, 'stake': 0, 'updated_at': 0, 'value': 0}, {'display_line': '232', 'display_name': 'over 232', 'display_odds': '', 'line': 232, 'line_id': 'f29e5368e701cc271aadcaa6f5928834', 'name': 'over 232', 'odds': None, 'outcome_id': 12, 'stake': 0, 'updated_at': 0, 'value': 0}], 'sub_type': 'total', 'type': 'total'}"
        ],
        [
         "21",
         "{'category_name': 'Game Lines', 'display_name': 'Total Points', 'id': 225, 'line': 221.5, 'name': 'Fixed total 221.5', 'selections': [{'display_line': '221.5', 'display_name': 'under 221.5', 'display_odds': '', 'line': 221.5, 'line_id': '219f01189f328148d859961be6299653', 'name': 'under 221.5', 'odds': None, 'outcome_id': 13, 'stake': 0, 'updated_at': 0, 'value': 0}, {'display_line': '221.5', 'display_name': 'over 221.5', 'display_odds': '', 'line': 221.5, 'line_id': 'e09bd9e0b23431f7ff8a58606f7815a8', 'name': 'over 221.5', 'odds': None, 'outcome_id': 12, 'stake': 0, 'updated_at': 0, 'value': 0}], 'sub_type': 'total', 'type': 'total'}",
         "{'category_name': 'Game Lines', 'display_name': 'Total Points', 'id': 225, 'line': 232.5, 'name': 'Fixed total 232.5', 'selections': [{'display_line': '232.5', 'display_name': 'under 232.5', 'display_odds': '', 'line': 232.5, 'line_id': '3caec898515769972e7876ece8853586', 'name': 'under 232.5', 'odds': None, 'outcome_id': 13, 'stake': 0, 'updated_at': 0, 'value': 0}, {'display_line': '232.5', 'display_name': 'over 232.5', 'display_odds': '', 'line': 232.5, 'line_id': '5881fc0add473a188c20b23c5e3595b4', 'name': 'over 232.5', 'odds': None, 'outcome_id': 12, 'stake': 0, 'updated_at': 0, 'value': 0}], 'sub_type': 'total', 'type': 'total'}"
        ],
        [
         "22",
         "{'category_name': 'Game Lines', 'display_name': 'Total Points', 'id': 225, 'line': 222, 'name': 'Fixed total 222', 'selections': [{'display_line': '222', 'display_name': 'under 222', 'display_odds': '', 'line': 222, 'line_id': 'ef818a984cbef4721b615a6143b1dc20', 'name': 'under 222', 'odds': None, 'outcome_id': 13, 'stake': 0, 'updated_at': 0, 'value': 0}, {'display_line': '222', 'display_name': 'over 222', 'display_odds': '', 'line': 222, 'line_id': 'd8a0536878419db1522625d8c5476819', 'name': 'over 222', 'odds': None, 'outcome_id': 12, 'stake': 0, 'updated_at': 0, 'value': 0}], 'sub_type': 'total', 'type': 'total'}",
         "{'category_name': 'Game Lines', 'display_name': 'Total Points', 'id': 225, 'line': 233, 'name': 'Fixed total 233', 'selections': [{'display_line': '233', 'display_name': 'under 233', 'display_odds': '', 'line': 233, 'line_id': 'c7642a55eafb9b22cbeb31dfd2f73008', 'name': 'under 233', 'odds': None, 'outcome_id': 13, 'stake': 0, 'updated_at': 0, 'value': 0}, {'display_line': '233', 'display_name': 'over 233', 'display_odds': '', 'line': 233, 'line_id': 'd798beffd2cee2802b4fabed83336a29', 'name': 'over 233', 'odds': None, 'outcome_id': 12, 'stake': 0, 'updated_at': 0, 'value': 0}], 'sub_type': 'total', 'type': 'total'}"
        ]
       ],
       "shape": {
        "columns": 2,
        "rows": 23
       }
      },
      "text/html": [
       "<div>\n",
       "<style scoped>\n",
       "    .dataframe tbody tr th:only-of-type {\n",
       "        vertical-align: middle;\n",
       "    }\n",
       "\n",
       "    .dataframe tbody tr th {\n",
       "        vertical-align: top;\n",
       "    }\n",
       "\n",
       "    .dataframe thead th {\n",
       "        text-align: right;\n",
       "    }\n",
       "</style>\n",
       "<table border=\"1\" class=\"dataframe\">\n",
       "  <thead>\n",
       "    <tr style=\"text-align: right;\">\n",
       "      <th></th>\n",
       "      <th>20021985</th>\n",
       "      <th>20021986</th>\n",
       "    </tr>\n",
       "  </thead>\n",
       "  <tbody>\n",
       "    <tr>\n",
       "      <th>0</th>\n",
       "      <td>{'category_name': 'Game Lines', 'display_name'...</td>\n",
       "      <td>{'category_name': 'Game Lines', 'display_name'...</td>\n",
       "    </tr>\n",
       "    <tr>\n",
       "      <th>1</th>\n",
       "      <td>{'category_name': 'Game Lines', 'display_name'...</td>\n",
       "      <td>{'category_name': 'Game Lines', 'display_name'...</td>\n",
       "    </tr>\n",
       "    <tr>\n",
       "      <th>2</th>\n",
       "      <td>{'category_name': 'Game Lines', 'display_name'...</td>\n",
       "      <td>{'category_name': 'Game Lines', 'display_name'...</td>\n",
       "    </tr>\n",
       "    <tr>\n",
       "      <th>3</th>\n",
       "      <td>{'category_name': 'Game Lines', 'display_name'...</td>\n",
       "      <td>{'category_name': 'Game Lines', 'display_name'...</td>\n",
       "    </tr>\n",
       "    <tr>\n",
       "      <th>4</th>\n",
       "      <td>{'category_name': 'Game Lines', 'display_name'...</td>\n",
       "      <td>{'category_name': 'Game Lines', 'display_name'...</td>\n",
       "    </tr>\n",
       "    <tr>\n",
       "      <th>5</th>\n",
       "      <td>{'category_name': 'Game Lines', 'display_name'...</td>\n",
       "      <td>{'category_name': 'Game Lines', 'display_name'...</td>\n",
       "    </tr>\n",
       "    <tr>\n",
       "      <th>6</th>\n",
       "      <td>{'category_name': 'Game Lines', 'display_name'...</td>\n",
       "      <td>{'category_name': 'Game Lines', 'display_name'...</td>\n",
       "    </tr>\n",
       "    <tr>\n",
       "      <th>7</th>\n",
       "      <td>{'category_name': 'Game Lines', 'display_name'...</td>\n",
       "      <td>{'category_name': 'Game Lines', 'display_name'...</td>\n",
       "    </tr>\n",
       "    <tr>\n",
       "      <th>8</th>\n",
       "      <td>{'category_name': 'Game Lines', 'display_name'...</td>\n",
       "      <td>{'category_name': 'Game Lines', 'display_name'...</td>\n",
       "    </tr>\n",
       "    <tr>\n",
       "      <th>9</th>\n",
       "      <td>{'category_name': 'Game Lines', 'display_name'...</td>\n",
       "      <td>{'category_name': 'Game Lines', 'display_name'...</td>\n",
       "    </tr>\n",
       "    <tr>\n",
       "      <th>10</th>\n",
       "      <td>{'category_name': 'Game Lines', 'display_name'...</td>\n",
       "      <td>{'category_name': 'Game Lines', 'display_name'...</td>\n",
       "    </tr>\n",
       "    <tr>\n",
       "      <th>11</th>\n",
       "      <td>{'category_name': 'Game Lines', 'display_name'...</td>\n",
       "      <td>{'category_name': 'Game Lines', 'display_name'...</td>\n",
       "    </tr>\n",
       "    <tr>\n",
       "      <th>12</th>\n",
       "      <td>{'category_name': 'Game Lines', 'display_name'...</td>\n",
       "      <td>{'category_name': 'Game Lines', 'display_name'...</td>\n",
       "    </tr>\n",
       "    <tr>\n",
       "      <th>13</th>\n",
       "      <td>{'category_name': 'Game Lines', 'display_name'...</td>\n",
       "      <td>{'category_name': 'Game Lines', 'display_name'...</td>\n",
       "    </tr>\n",
       "    <tr>\n",
       "      <th>14</th>\n",
       "      <td>{'category_name': 'Game Lines', 'display_name'...</td>\n",
       "      <td>{'category_name': 'Game Lines', 'display_name'...</td>\n",
       "    </tr>\n",
       "    <tr>\n",
       "      <th>15</th>\n",
       "      <td>{'category_name': 'Game Lines', 'display_name'...</td>\n",
       "      <td>{'category_name': 'Game Lines', 'display_name'...</td>\n",
       "    </tr>\n",
       "    <tr>\n",
       "      <th>16</th>\n",
       "      <td>{'category_name': 'Game Lines', 'display_name'...</td>\n",
       "      <td>{'category_name': 'Game Lines', 'display_name'...</td>\n",
       "    </tr>\n",
       "    <tr>\n",
       "      <th>17</th>\n",
       "      <td>{'category_name': 'Game Lines', 'display_name'...</td>\n",
       "      <td>{'category_name': 'Game Lines', 'display_name'...</td>\n",
       "    </tr>\n",
       "    <tr>\n",
       "      <th>18</th>\n",
       "      <td>{'category_name': 'Game Lines', 'display_name'...</td>\n",
       "      <td>{'category_name': 'Game Lines', 'display_name'...</td>\n",
       "    </tr>\n",
       "    <tr>\n",
       "      <th>19</th>\n",
       "      <td>{'category_name': 'Game Lines', 'display_name'...</td>\n",
       "      <td>{'category_name': 'Game Lines', 'display_name'...</td>\n",
       "    </tr>\n",
       "    <tr>\n",
       "      <th>20</th>\n",
       "      <td>{'category_name': 'Game Lines', 'display_name'...</td>\n",
       "      <td>{'category_name': 'Game Lines', 'display_name'...</td>\n",
       "    </tr>\n",
       "    <tr>\n",
       "      <th>21</th>\n",
       "      <td>{'category_name': 'Game Lines', 'display_name'...</td>\n",
       "      <td>{'category_name': 'Game Lines', 'display_name'...</td>\n",
       "    </tr>\n",
       "    <tr>\n",
       "      <th>22</th>\n",
       "      <td>{'category_name': 'Game Lines', 'display_name'...</td>\n",
       "      <td>{'category_name': 'Game Lines', 'display_name'...</td>\n",
       "    </tr>\n",
       "  </tbody>\n",
       "</table>\n",
       "</div>"
      ],
      "text/plain": [
       "                                             20021985  \\\n",
       "0   {'category_name': 'Game Lines', 'display_name'...   \n",
       "1   {'category_name': 'Game Lines', 'display_name'...   \n",
       "2   {'category_name': 'Game Lines', 'display_name'...   \n",
       "3   {'category_name': 'Game Lines', 'display_name'...   \n",
       "4   {'category_name': 'Game Lines', 'display_name'...   \n",
       "5   {'category_name': 'Game Lines', 'display_name'...   \n",
       "6   {'category_name': 'Game Lines', 'display_name'...   \n",
       "7   {'category_name': 'Game Lines', 'display_name'...   \n",
       "8   {'category_name': 'Game Lines', 'display_name'...   \n",
       "9   {'category_name': 'Game Lines', 'display_name'...   \n",
       "10  {'category_name': 'Game Lines', 'display_name'...   \n",
       "11  {'category_name': 'Game Lines', 'display_name'...   \n",
       "12  {'category_name': 'Game Lines', 'display_name'...   \n",
       "13  {'category_name': 'Game Lines', 'display_name'...   \n",
       "14  {'category_name': 'Game Lines', 'display_name'...   \n",
       "15  {'category_name': 'Game Lines', 'display_name'...   \n",
       "16  {'category_name': 'Game Lines', 'display_name'...   \n",
       "17  {'category_name': 'Game Lines', 'display_name'...   \n",
       "18  {'category_name': 'Game Lines', 'display_name'...   \n",
       "19  {'category_name': 'Game Lines', 'display_name'...   \n",
       "20  {'category_name': 'Game Lines', 'display_name'...   \n",
       "21  {'category_name': 'Game Lines', 'display_name'...   \n",
       "22  {'category_name': 'Game Lines', 'display_name'...   \n",
       "\n",
       "                                             20021986  \n",
       "0   {'category_name': 'Game Lines', 'display_name'...  \n",
       "1   {'category_name': 'Game Lines', 'display_name'...  \n",
       "2   {'category_name': 'Game Lines', 'display_name'...  \n",
       "3   {'category_name': 'Game Lines', 'display_name'...  \n",
       "4   {'category_name': 'Game Lines', 'display_name'...  \n",
       "5   {'category_name': 'Game Lines', 'display_name'...  \n",
       "6   {'category_name': 'Game Lines', 'display_name'...  \n",
       "7   {'category_name': 'Game Lines', 'display_name'...  \n",
       "8   {'category_name': 'Game Lines', 'display_name'...  \n",
       "9   {'category_name': 'Game Lines', 'display_name'...  \n",
       "10  {'category_name': 'Game Lines', 'display_name'...  \n",
       "11  {'category_name': 'Game Lines', 'display_name'...  \n",
       "12  {'category_name': 'Game Lines', 'display_name'...  \n",
       "13  {'category_name': 'Game Lines', 'display_name'...  \n",
       "14  {'category_name': 'Game Lines', 'display_name'...  \n",
       "15  {'category_name': 'Game Lines', 'display_name'...  \n",
       "16  {'category_name': 'Game Lines', 'display_name'...  \n",
       "17  {'category_name': 'Game Lines', 'display_name'...  \n",
       "18  {'category_name': 'Game Lines', 'display_name'...  \n",
       "19  {'category_name': 'Game Lines', 'display_name'...  \n",
       "20  {'category_name': 'Game Lines', 'display_name'...  \n",
       "21  {'category_name': 'Game Lines', 'display_name'...  \n",
       "22  {'category_name': 'Game Lines', 'display_name'...  "
      ]
     },
     "execution_count": 16,
     "metadata": {},
     "output_type": "execute_result"
    }
   ],
   "source": [
    "odd_dataframe"
   ]
  },
  {
   "cell_type": "markdown",
   "metadata": {},
   "source": [
    "### Get Moneyline"
   ]
  },
  {
   "cell_type": "code",
   "execution_count": 13,
   "metadata": {},
   "outputs": [],
   "source": [
    "for game in odd_dataframe.columns:\n",
    "    moneyline = odd_dataframe[game][0]\n",
    "    selections = moneyline['selections']\n",
    "    odds = [ selection['odds'] for selection in selections if selection['odds']  ]\n",
    "    line = max( odds ) if odds else 0\n",
    "    nba_todays_games.loc[game, 'moneyline'] = line"
   ]
  },
  {
   "cell_type": "code",
   "execution_count": 15,
   "metadata": {},
   "outputs": [
    {
     "data": {
      "application/vnd.microsoft.datawrangler.viewer.v0+json": {
       "columns": [
        {
         "name": "event_id",
         "rawType": "object",
         "type": "string"
        },
        {
         "name": "competitors",
         "rawType": "object",
         "type": "unknown"
        },
        {
         "name": "display_name",
         "rawType": "object",
         "type": "string"
        },
        {
         "name": "live_disabled",
         "rawType": "bool",
         "type": "boolean"
        },
        {
         "name": "name",
         "rawType": "object",
         "type": "string"
        },
        {
         "name": "scheduled",
         "rawType": "object",
         "type": "string"
        },
        {
         "name": "sport_name",
         "rawType": "object",
         "type": "string"
        },
        {
         "name": "status",
         "rawType": "object",
         "type": "string"
        },
        {
         "name": "tournament_id",
         "rawType": "int64",
         "type": "integer"
        },
        {
         "name": "tournament_name",
         "rawType": "object",
         "type": "string"
        },
        {
         "name": "updated_at",
         "rawType": "int64",
         "type": "integer"
        },
        {
         "name": "moneyline",
         "rawType": "float64",
         "type": "float"
        }
       ],
       "conversionMethod": "pd.DataFrame",
       "ref": "939049d8-6786-401d-afcc-c06c8d43ea2a",
       "rows": [
        [
         "20021985",
         "[{'abbreviation': 'IND', 'display_name': 'Indiana Pacers', 'id': 20000013, 'name': 'Indiana Pacers', 'side': 'home'}, {'abbreviation': 'BKN', 'display_name': 'Brooklyn Nets', 'id': 20000008, 'name': 'Brooklyn Nets', 'side': 'away'}]",
         "Brooklyn Nets at Indiana Pacers",
         "False",
         "Brooklyn Nets at Indiana Pacers",
         "2025-03-22T21:00:00Z",
         "Basketball",
         "not_started",
         "132",
         "NBA",
         "1742574468765852000",
         "100.0"
        ],
        [
         "20021986",
         "[{'abbreviation': 'ATL', 'display_name': 'Atlanta Hawks', 'id': 20000003, 'name': 'Atlanta Hawks', 'side': 'home'}, {'abbreviation': 'GS', 'display_name': 'Golden State Warriors', 'id': 20000026, 'name': 'Golden State Warriors', 'side': 'away'}]",
         "Golden State Warriors at Atlanta Hawks",
         "False",
         "Golden State Warriors at Atlanta Hawks",
         "2025-03-22T23:00:00Z",
         "Basketball",
         "not_started",
         "132",
         "NBA",
         "1742574468765852000",
         "0.0"
        ]
       ],
       "shape": {
        "columns": 11,
        "rows": 2
       }
      },
      "text/html": [
       "<div>\n",
       "<style scoped>\n",
       "    .dataframe tbody tr th:only-of-type {\n",
       "        vertical-align: middle;\n",
       "    }\n",
       "\n",
       "    .dataframe tbody tr th {\n",
       "        vertical-align: top;\n",
       "    }\n",
       "\n",
       "    .dataframe thead th {\n",
       "        text-align: right;\n",
       "    }\n",
       "</style>\n",
       "<table border=\"1\" class=\"dataframe\">\n",
       "  <thead>\n",
       "    <tr style=\"text-align: right;\">\n",
       "      <th></th>\n",
       "      <th>competitors</th>\n",
       "      <th>display_name</th>\n",
       "      <th>live_disabled</th>\n",
       "      <th>name</th>\n",
       "      <th>scheduled</th>\n",
       "      <th>sport_name</th>\n",
       "      <th>status</th>\n",
       "      <th>tournament_id</th>\n",
       "      <th>tournament_name</th>\n",
       "      <th>updated_at</th>\n",
       "      <th>moneyline</th>\n",
       "    </tr>\n",
       "    <tr>\n",
       "      <th>event_id</th>\n",
       "      <th></th>\n",
       "      <th></th>\n",
       "      <th></th>\n",
       "      <th></th>\n",
       "      <th></th>\n",
       "      <th></th>\n",
       "      <th></th>\n",
       "      <th></th>\n",
       "      <th></th>\n",
       "      <th></th>\n",
       "      <th></th>\n",
       "    </tr>\n",
       "  </thead>\n",
       "  <tbody>\n",
       "    <tr>\n",
       "      <th>20021985</th>\n",
       "      <td>[{'abbreviation': 'IND', 'display_name': 'Indi...</td>\n",
       "      <td>Brooklyn Nets at Indiana Pacers</td>\n",
       "      <td>False</td>\n",
       "      <td>Brooklyn Nets at Indiana Pacers</td>\n",
       "      <td>2025-03-22T21:00:00Z</td>\n",
       "      <td>Basketball</td>\n",
       "      <td>not_started</td>\n",
       "      <td>132</td>\n",
       "      <td>NBA</td>\n",
       "      <td>1742574468765852000</td>\n",
       "      <td>100.0</td>\n",
       "    </tr>\n",
       "    <tr>\n",
       "      <th>20021986</th>\n",
       "      <td>[{'abbreviation': 'ATL', 'display_name': 'Atla...</td>\n",
       "      <td>Golden State Warriors at Atlanta Hawks</td>\n",
       "      <td>False</td>\n",
       "      <td>Golden State Warriors at Atlanta Hawks</td>\n",
       "      <td>2025-03-22T23:00:00Z</td>\n",
       "      <td>Basketball</td>\n",
       "      <td>not_started</td>\n",
       "      <td>132</td>\n",
       "      <td>NBA</td>\n",
       "      <td>1742574468765852000</td>\n",
       "      <td>0.0</td>\n",
       "    </tr>\n",
       "  </tbody>\n",
       "</table>\n",
       "</div>"
      ],
      "text/plain": [
       "                                                competitors  \\\n",
       "event_id                                                      \n",
       "20021985  [{'abbreviation': 'IND', 'display_name': 'Indi...   \n",
       "20021986  [{'abbreviation': 'ATL', 'display_name': 'Atla...   \n",
       "\n",
       "                                    display_name  live_disabled  \\\n",
       "event_id                                                          \n",
       "20021985         Brooklyn Nets at Indiana Pacers          False   \n",
       "20021986  Golden State Warriors at Atlanta Hawks          False   \n",
       "\n",
       "                                            name             scheduled  \\\n",
       "event_id                                                                 \n",
       "20021985         Brooklyn Nets at Indiana Pacers  2025-03-22T21:00:00Z   \n",
       "20021986  Golden State Warriors at Atlanta Hawks  2025-03-22T23:00:00Z   \n",
       "\n",
       "          sport_name       status  tournament_id tournament_name  \\\n",
       "event_id                                                           \n",
       "20021985  Basketball  not_started            132             NBA   \n",
       "20021986  Basketball  not_started            132             NBA   \n",
       "\n",
       "                   updated_at  moneyline  \n",
       "event_id                                  \n",
       "20021985  1742574468765852000      100.0  \n",
       "20021986  1742574468765852000        0.0  "
      ]
     },
     "execution_count": 15,
     "metadata": {},
     "output_type": "execute_result"
    }
   ],
   "source": [
    "nba_todays_games"
   ]
  },
  {
   "cell_type": "markdown",
   "metadata": {},
   "source": []
  },
  {
   "cell_type": "markdown",
   "metadata": {},
   "source": [
    "# Get favorite spread"
   ]
  }
 ],
 "metadata": {
  "kernelspec": {
   "display_name": ".venv",
   "language": "python",
   "name": "python3"
  },
  "language_info": {
   "codemirror_mode": {
    "name": "ipython",
    "version": 3
   },
   "file_extension": ".py",
   "mimetype": "text/x-python",
   "name": "python",
   "nbconvert_exporter": "python",
   "pygments_lexer": "ipython3",
   "version": "3.13.1"
  }
 },
 "nbformat": 4,
 "nbformat_minor": 2
}
